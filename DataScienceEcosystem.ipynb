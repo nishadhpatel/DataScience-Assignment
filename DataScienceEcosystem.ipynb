{
 "cells": [
  {
   "cell_type": "markdown",
   "id": "88dd045b-a952-4d4c-9c8f-58fc2f7c1c3f",
   "metadata": {},
   "source": [
    "# Data Science Tools and Ecosystem\n"
   ]
  },
  {
   "cell_type": "markdown",
   "id": "0a505d21-cb32-4271-ab51-1cb149a7fb13",
   "metadata": {},
   "source": [
    "## Introduction\n",
    "\n",
    "In this notebook, Data Science Tools and Ecosystem are summarized.\n"
   ]
  },
  {
   "cell_type": "markdown",
   "id": "4cf2b652-e4b2-47dd-a530-2fe669f27718",
   "metadata": {},
   "source": [
    "## Data Science Languages\n",
    "\n",
    "Some of the popular languages that Data Scientists use are:\n",
    "\n",
    "1. Python\n",
    "2. R\n",
    "3. SQL\n",
    "4. Julia\n",
    "5. Scala\n"
   ]
  },
  {
   "cell_type": "markdown",
   "id": "0f6e1168-e5c4-4d1c-b5f5-ab2eaea682b1",
   "metadata": {},
   "source": [
    "## Data Science Libraries\n",
    "\n",
    "Some of the commonly used libraries used by Data Scientists include:\n",
    "\n",
    "1. Pandas\n",
    "2. NumPy\n",
    "3. Matplotlib\n",
    "4. Seaborn\n",
    "5. Scikit-learn\n"
   ]
  },
  {
   "cell_type": "markdown",
   "id": "dc05a2e0-3b5d-4272-a464-6987f6f94a62",
   "metadata": {},
   "source": [
    "Some commonly used Data Science tools include:\n",
    "\n",
    "| Data Science Tools       |\n",
    "|--------------------------|\n",
    "| Jupyter Notebook         |\n",
    "| RStudio                  |\n",
    "| VS Code                  |\n"
   ]
  },
  {
   "cell_type": "markdown",
   "id": "93e2addb-0ed3-4715-84e4-9f823b9f05a0",
   "metadata": {},
   "source": [
    "### Below are a few examples of evaluating arithmetic expressions in Python\n",
    "\n",
    "# Addition\n",
    "result = 10 + 5\n",
    "print(result)  \n",
    "# Output: 50\n",
    "\n",
    "# Subtraction\n",
    "result = 10 - 5\n",
    "print(result)  \n",
    "# Output: 5\n",
    "\n",
    "# Multiplication\n",
    "result = 10 * 5\n",
    "print(result)  \n",
    "# Output: 50\n",
    "\n",
    "# Division\n",
    "result = 10 / 5\n",
    "print(result)  \n",
    "# Output: 2.0\n",
    "\n",
    "# Exponentiation\n",
    "result = 10 ** 3\n",
    "print(result)  \n",
    "# Output: 1000\n"
   ]
  },
  {
   "cell_type": "code",
   "execution_count": 3,
   "id": "88cba6f1-5607-4fa3-ad9e-a9dfad5195fd",
   "metadata": {},
   "outputs": [
    {
     "name": "stdout",
     "output_type": "stream",
     "text": [
      "17\n"
     ]
    }
   ],
   "source": [
    "# This is a simple arithmatic expression to multiply then add intergers\n",
    "\n",
    "Result = ( 3 * 4) + 5\n",
    "\n",
    "print(Result)\n",
    "\n",
    "# Expected outout: 17"
   ]
  },
  {
   "cell_type": "code",
   "execution_count": 4,
   "id": "cdfd91c3-ac65-4bfd-b76c-71c4e009fe8f",
   "metadata": {},
   "outputs": [
    {
     "name": "stdout",
     "output_type": "stream",
     "text": [
      "3.3333333333333335\n"
     ]
    }
   ],
   "source": [
    "# This will convert 200 minutes to hours by dividing by 60\n",
    "\n",
    "hours = 200 / 60\n",
    "\n",
    "print(hours)  \n",
    "\n",
    "# Expected output: 3.3333333333333335\n"
   ]
  },
  {
   "cell_type": "markdown",
   "id": "88179cdc-65ae-4ae8-846b-5fda06c0fbab",
   "metadata": {},
   "source": [
    "**Objectives:**\n",
    "\n",
    "- List popular languages used in Data Science\n",
    "- Identify common development environment tools for Data Science\n",
    "- Evaluate basic arithmetic expressions in Python\n",
    "- Convert units such as minutes to hours using Python\n",
    "- Understand simple Python operations and expressions\n"
   ]
  },
  {
   "cell_type": "markdown",
   "id": "0e917133-e6e8-4386-b071-24400675b700",
   "metadata": {},
   "source": [
    "## Author\n",
    "\n",
    "Nishadh Patel\n"
   ]
  }
 ],
 "metadata": {
  "kernelspec": {
   "display_name": "Python 3 (ipykernel)",
   "language": "python",
   "name": "python3"
  },
  "language_info": {
   "codemirror_mode": {
    "name": "ipython",
    "version": 3
   },
   "file_extension": ".py",
   "mimetype": "text/x-python",
   "name": "python",
   "nbconvert_exporter": "python",
   "pygments_lexer": "ipython3",
   "version": "3.12.7"
  }
 },
 "nbformat": 4,
 "nbformat_minor": 5
}
